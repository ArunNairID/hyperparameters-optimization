{
 "cells": [
  {
   "cell_type": "markdown",
   "metadata": {
    "ExecuteTime": {
     "end_time": "2016-10-27T09:05:30.463516",
     "start_time": "2016-10-27T09:05:30.455258"
    }
   },
   "source": [
    "In this notebook, we explore different techniques to optimize hyperparameters working with\n",
    "an IMDb dataset and trying to predict the score each movie received. "
   ]
  },
  {
   "cell_type": "code",
   "execution_count": 144,
   "metadata": {
    "ExecuteTime": {
     "end_time": "2016-10-28T09:36:07.890638",
     "start_time": "2016-10-28T09:36:07.703712"
    },
    "collapsed": false
   },
   "outputs": [],
   "source": [
    "# Data analysis imports\n",
    "import pandas as pd\n",
    "import numpy as np\n",
    "\n",
    "# Machine learning imports\n",
    "import xgboost as xgb\n",
    "from sklearn.grid_search import GridSearchCV\n",
    "from sklearn.model_selection import train_test_split, cross_val_score\n",
    "\n",
    "# Hyperopt imports\n",
    "from hyperopt import fmin, tpe, hp, STATUS_OK, Trials\n",
    "\n",
    "# Plotting imports\n",
    "import matplotlib.pyplot as plt\n",
    "import seaborn as sns\n",
    "% matplotlib inline"
   ]
  },
  {
   "cell_type": "code",
   "execution_count": 169,
   "metadata": {
    "ExecuteTime": {
     "end_time": "2016-10-28T11:18:51.376332",
     "start_time": "2016-10-28T11:18:51.369616"
    },
    "collapsed": true
   },
   "outputs": [],
   "source": [
    "# Some constants\n",
    "SEED = 100\n",
    "TEST_SIZE = 0.2\n",
    "MAX_EVALS = 100"
   ]
  },
  {
   "cell_type": "code",
   "execution_count": 146,
   "metadata": {
    "ExecuteTime": {
     "end_time": "2016-10-28T09:36:11.574625",
     "start_time": "2016-10-28T09:36:11.555074"
    },
    "collapsed": true
   },
   "outputs": [],
   "source": [
    "# Some utility functions\n",
    "def compute_rmse(model, features, targets):\n",
    "    prediction = model.predict(features)\n",
    "    rmse = np.sqrt(np.mean((prediction - targets) ** 2))\n",
    "    return rmse\n",
    "\n",
    "def train_grid_search(cv_parameters, features, targets):\n",
    "    xgb_regressor = xgb.XGBRegressor({'eval_score':'rmse'})\n",
    "    grid_search = GridSearchCV(xgb_regressor, cv_parameters, cv=5, verbose=1, n_jobs=4)\n",
    "    grid_search.fit(features, targets)\n",
    "    return grid_search"
   ]
  },
  {
   "cell_type": "markdown",
   "metadata": {},
   "source": [
    "# Load processed data"
   ]
  },
  {
   "cell_type": "code",
   "execution_count": 25,
   "metadata": {
    "ExecuteTime": {
     "end_time": "2016-10-27T10:01:16.712275",
     "start_time": "2016-10-27T10:01:16.527913"
    },
    "collapsed": false
   },
   "outputs": [],
   "source": [
    "imdb_df = pd.read_csv('../data/processed_movie_metadata.csv')"
   ]
  },
  {
   "cell_type": "code",
   "execution_count": 26,
   "metadata": {
    "ExecuteTime": {
     "end_time": "2016-10-27T10:01:24.914334",
     "start_time": "2016-10-27T10:01:24.823542"
    },
    "collapsed": false
   },
   "outputs": [
    {
     "data": {
      "text/html": [
       "<div>\n",
       "<table border=\"1\" class=\"dataframe\">\n",
       "  <thead>\n",
       "    <tr style=\"text-align: right;\">\n",
       "      <th></th>\n",
       "      <th>num_critic_for_reviews</th>\n",
       "      <th>duration</th>\n",
       "      <th>director_facebook_likes</th>\n",
       "      <th>actor_3_facebook_likes</th>\n",
       "      <th>actor_1_facebook_likes</th>\n",
       "      <th>num_voted_users</th>\n",
       "      <th>num_user_for_reviews</th>\n",
       "      <th>title_year</th>\n",
       "      <th>actor_2_facebook_likes</th>\n",
       "      <th>imdb_score</th>\n",
       "      <th>...</th>\n",
       "      <th>Not Rated</th>\n",
       "      <th>PG</th>\n",
       "      <th>PG-13</th>\n",
       "      <th>Passed</th>\n",
       "      <th>R</th>\n",
       "      <th>TV-14</th>\n",
       "      <th>TV-G</th>\n",
       "      <th>TV-PG</th>\n",
       "      <th>Unrated</th>\n",
       "      <th>X</th>\n",
       "    </tr>\n",
       "  </thead>\n",
       "  <tbody>\n",
       "    <tr>\n",
       "      <th>0</th>\n",
       "      <td>723.0</td>\n",
       "      <td>178.0</td>\n",
       "      <td>0.0</td>\n",
       "      <td>855.0</td>\n",
       "      <td>1000.0</td>\n",
       "      <td>886204</td>\n",
       "      <td>3054.0</td>\n",
       "      <td>2009.0</td>\n",
       "      <td>936.0</td>\n",
       "      <td>7.9</td>\n",
       "      <td>...</td>\n",
       "      <td>0</td>\n",
       "      <td>0</td>\n",
       "      <td>1</td>\n",
       "      <td>0</td>\n",
       "      <td>0</td>\n",
       "      <td>0</td>\n",
       "      <td>0</td>\n",
       "      <td>0</td>\n",
       "      <td>0</td>\n",
       "      <td>0</td>\n",
       "    </tr>\n",
       "    <tr>\n",
       "      <th>1</th>\n",
       "      <td>302.0</td>\n",
       "      <td>169.0</td>\n",
       "      <td>563.0</td>\n",
       "      <td>1000.0</td>\n",
       "      <td>40000.0</td>\n",
       "      <td>471220</td>\n",
       "      <td>1238.0</td>\n",
       "      <td>2007.0</td>\n",
       "      <td>5000.0</td>\n",
       "      <td>7.1</td>\n",
       "      <td>...</td>\n",
       "      <td>0</td>\n",
       "      <td>0</td>\n",
       "      <td>1</td>\n",
       "      <td>0</td>\n",
       "      <td>0</td>\n",
       "      <td>0</td>\n",
       "      <td>0</td>\n",
       "      <td>0</td>\n",
       "      <td>0</td>\n",
       "      <td>0</td>\n",
       "    </tr>\n",
       "    <tr>\n",
       "      <th>2</th>\n",
       "      <td>602.0</td>\n",
       "      <td>148.0</td>\n",
       "      <td>0.0</td>\n",
       "      <td>161.0</td>\n",
       "      <td>11000.0</td>\n",
       "      <td>275868</td>\n",
       "      <td>994.0</td>\n",
       "      <td>2015.0</td>\n",
       "      <td>393.0</td>\n",
       "      <td>6.8</td>\n",
       "      <td>...</td>\n",
       "      <td>0</td>\n",
       "      <td>0</td>\n",
       "      <td>1</td>\n",
       "      <td>0</td>\n",
       "      <td>0</td>\n",
       "      <td>0</td>\n",
       "      <td>0</td>\n",
       "      <td>0</td>\n",
       "      <td>0</td>\n",
       "      <td>0</td>\n",
       "    </tr>\n",
       "    <tr>\n",
       "      <th>3</th>\n",
       "      <td>813.0</td>\n",
       "      <td>164.0</td>\n",
       "      <td>22000.0</td>\n",
       "      <td>23000.0</td>\n",
       "      <td>27000.0</td>\n",
       "      <td>1144337</td>\n",
       "      <td>2701.0</td>\n",
       "      <td>2012.0</td>\n",
       "      <td>23000.0</td>\n",
       "      <td>8.5</td>\n",
       "      <td>...</td>\n",
       "      <td>0</td>\n",
       "      <td>0</td>\n",
       "      <td>1</td>\n",
       "      <td>0</td>\n",
       "      <td>0</td>\n",
       "      <td>0</td>\n",
       "      <td>0</td>\n",
       "      <td>0</td>\n",
       "      <td>0</td>\n",
       "      <td>0</td>\n",
       "    </tr>\n",
       "    <tr>\n",
       "      <th>4</th>\n",
       "      <td>462.0</td>\n",
       "      <td>132.0</td>\n",
       "      <td>475.0</td>\n",
       "      <td>530.0</td>\n",
       "      <td>640.0</td>\n",
       "      <td>212204</td>\n",
       "      <td>738.0</td>\n",
       "      <td>2012.0</td>\n",
       "      <td>632.0</td>\n",
       "      <td>6.6</td>\n",
       "      <td>...</td>\n",
       "      <td>0</td>\n",
       "      <td>0</td>\n",
       "      <td>1</td>\n",
       "      <td>0</td>\n",
       "      <td>0</td>\n",
       "      <td>0</td>\n",
       "      <td>0</td>\n",
       "      <td>0</td>\n",
       "      <td>0</td>\n",
       "      <td>0</td>\n",
       "    </tr>\n",
       "  </tbody>\n",
       "</table>\n",
       "<p>5 rows × 145 columns</p>\n",
       "</div>"
      ],
      "text/plain": [
       "   num_critic_for_reviews  duration  director_facebook_likes  \\\n",
       "0                   723.0     178.0                      0.0   \n",
       "1                   302.0     169.0                    563.0   \n",
       "2                   602.0     148.0                      0.0   \n",
       "3                   813.0     164.0                  22000.0   \n",
       "4                   462.0     132.0                    475.0   \n",
       "\n",
       "   actor_3_facebook_likes  actor_1_facebook_likes  num_voted_users  \\\n",
       "0                   855.0                  1000.0           886204   \n",
       "1                  1000.0                 40000.0           471220   \n",
       "2                   161.0                 11000.0           275868   \n",
       "3                 23000.0                 27000.0          1144337   \n",
       "4                   530.0                   640.0           212204   \n",
       "\n",
       "   num_user_for_reviews  title_year  actor_2_facebook_likes  imdb_score ...  \\\n",
       "0                3054.0      2009.0                   936.0         7.9 ...   \n",
       "1                1238.0      2007.0                  5000.0         7.1 ...   \n",
       "2                 994.0      2015.0                   393.0         6.8 ...   \n",
       "3                2701.0      2012.0                 23000.0         8.5 ...   \n",
       "4                 738.0      2012.0                   632.0         6.6 ...   \n",
       "\n",
       "   Not Rated  PG  PG-13  Passed  R  TV-14  TV-G  TV-PG  Unrated  X  \n",
       "0          0   0      1       0  0      0     0      0        0  0  \n",
       "1          0   0      1       0  0      0     0      0        0  0  \n",
       "2          0   0      1       0  0      0     0      0        0  0  \n",
       "3          0   0      1       0  0      0     0      0        0  0  \n",
       "4          0   0      1       0  0      0     0      0        0  0  \n",
       "\n",
       "[5 rows x 145 columns]"
      ]
     },
     "execution_count": 26,
     "metadata": {},
     "output_type": "execute_result"
    }
   ],
   "source": [
    "imdb_df.head()"
   ]
  },
  {
   "cell_type": "markdown",
   "metadata": {},
   "source": [
    "# Train - test split "
   ]
  },
  {
   "cell_type": "code",
   "execution_count": 147,
   "metadata": {
    "ExecuteTime": {
     "end_time": "2016-10-28T09:36:18.066951",
     "start_time": "2016-10-28T09:36:17.978463"
    },
    "collapsed": true
   },
   "outputs": [],
   "source": [
    "train_df, test_df = train_test_split(imdb_df, test_size=TEST_SIZE, random_state=SEED)"
   ]
  },
  {
   "cell_type": "code",
   "execution_count": 148,
   "metadata": {
    "ExecuteTime": {
     "end_time": "2016-10-28T09:36:19.694636",
     "start_time": "2016-10-28T09:36:19.651216"
    },
    "collapsed": false
   },
   "outputs": [],
   "source": [
    "train_features = train_df.drop('imdb_score', axis=1)\n",
    "train_targets = train_df.loc[:, 'imdb_score']\n",
    "test_features = test_df.drop('imdb_score', axis=1)\n",
    "test_targets = test_df.loc[:, 'imdb_score']"
   ]
  },
  {
   "cell_type": "markdown",
   "metadata": {},
   "source": [
    "# Naive grid search "
   ]
  },
  {
   "cell_type": "code",
   "execution_count": 149,
   "metadata": {
    "ExecuteTime": {
     "end_time": "2016-10-28T09:36:21.460441",
     "start_time": "2016-10-28T09:36:21.452254"
    },
    "collapsed": true
   },
   "outputs": [],
   "source": [
    "naive_cv_parameters = {'max_depth':[4, 6, 8, 10],\n",
    "                 'n_estimators': [10, 15, 20, 25],\n",
    "                 'learning_rate': [0.2, 0.4, 0.6, 0.8], \n",
    "                 'gamma': [0.2, 0.4, 0.6, 0.8]\n",
    "}"
   ]
  },
  {
   "cell_type": "code",
   "execution_count": 150,
   "metadata": {
    "ExecuteTime": {
     "end_time": "2016-10-28T09:41:36.289821",
     "start_time": "2016-10-28T09:36:23.949771"
    },
    "collapsed": false,
    "scrolled": true
   },
   "outputs": [
    {
     "name": "stdout",
     "output_type": "stream",
     "text": [
      "Fitting 5 folds for each of 256 candidates, totalling 1280 fits\n"
     ]
    },
    {
     "name": "stderr",
     "output_type": "stream",
     "text": [
      "[Parallel(n_jobs=4)]: Done  42 tasks      | elapsed:    7.4s\n",
      "[Parallel(n_jobs=4)]: Done 192 tasks      | elapsed:   50.9s\n",
      "[Parallel(n_jobs=4)]: Done 442 tasks      | elapsed:  2.0min\n",
      "[Parallel(n_jobs=4)]: Done 792 tasks      | elapsed:  3.3min\n",
      "[Parallel(n_jobs=4)]: Done 1242 tasks      | elapsed:  5.0min\n",
      "[Parallel(n_jobs=4)]: Done 1280 out of 1280 | elapsed:  5.2min finished\n"
     ]
    }
   ],
   "source": [
    "naive_gs = train_grid_search(naive_cv_parameters, train_features, train_targets)"
   ]
  },
  {
   "cell_type": "code",
   "execution_count": 151,
   "metadata": {
    "ExecuteTime": {
     "end_time": "2016-10-28T10:05:01.945112",
     "start_time": "2016-10-28T10:05:01.763092"
    },
    "collapsed": false
   },
   "outputs": [
    {
     "data": {
      "text/plain": [
       "0.68653962371567878"
      ]
     },
     "execution_count": 151,
     "metadata": {},
     "output_type": "execute_result"
    }
   ],
   "source": [
    "compute_rmse(naive_gs, test_features, test_targets)"
   ]
  },
  {
   "cell_type": "code",
   "execution_count": 152,
   "metadata": {
    "ExecuteTime": {
     "end_time": "2016-10-28T10:05:05.382264",
     "start_time": "2016-10-28T10:05:05.327969"
    },
    "collapsed": false
   },
   "outputs": [
    {
     "data": {
      "text/plain": [
       "0.52874754923578193"
      ]
     },
     "execution_count": 152,
     "metadata": {},
     "output_type": "execute_result"
    }
   ],
   "source": [
    "compute_rmse(naive_gs, train_features, train_targets)"
   ]
  },
  {
   "cell_type": "code",
   "execution_count": 199,
   "metadata": {
    "ExecuteTime": {
     "end_time": "2016-10-28T17:26:11.493528",
     "start_time": "2016-10-28T17:26:11.488127"
    },
    "collapsed": false
   },
   "outputs": [
    {
     "data": {
      "text/plain": [
       "0.5899843789082917"
      ]
     },
     "execution_count": 199,
     "metadata": {},
     "output_type": "execute_result"
    }
   ],
   "source": [
    "naive_gs.best_score_"
   ]
  },
  {
   "cell_type": "code",
   "execution_count": 200,
   "metadata": {
    "ExecuteTime": {
     "end_time": "2016-10-28T17:26:27.599383",
     "start_time": "2016-10-28T17:26:27.593167"
    },
    "collapsed": false
   },
   "outputs": [
    {
     "data": {
      "text/plain": [
       "0.610430915628532"
      ]
     },
     "execution_count": 200,
     "metadata": {},
     "output_type": "execute_result"
    }
   ],
   "source": [
    "expert_gs"
   ]
  },
  {
   "cell_type": "markdown",
   "metadata": {},
   "source": [
    "# Expert grid search"
   ]
  },
  {
   "cell_type": "markdown",
   "metadata": {},
   "source": [
    "This grid search is based on the recommmendations of the following article: "
   ]
  },
  {
   "cell_type": "code",
   "execution_count": 153,
   "metadata": {
    "ExecuteTime": {
     "end_time": "2016-10-28T10:05:16.374398",
     "start_time": "2016-10-28T10:05:16.364599"
    },
    "collapsed": false
   },
   "outputs": [],
   "source": [
    "expert_cv_parameters = {'max_depth':[4, 6, 10, 15],\n",
    "                 'n_estimators': [10, 50, 100, 500],\n",
    "                 'learning_rate': [0.01, 0.025, 0.05, 0.1],\n",
    "                 'gamma': [0.05, 0.5, 0.9, 1.]\n",
    "}"
   ]
  },
  {
   "cell_type": "code",
   "execution_count": 154,
   "metadata": {
    "ExecuteTime": {
     "end_time": "2016-10-28T11:03:26.405077",
     "start_time": "2016-10-28T10:05:19.435429"
    },
    "collapsed": false,
    "scrolled": true
   },
   "outputs": [
    {
     "name": "stdout",
     "output_type": "stream",
     "text": [
      "Fitting 5 folds for each of 256 candidates, totalling 1280 fits\n"
     ]
    },
    {
     "name": "stderr",
     "output_type": "stream",
     "text": [
      "[Parallel(n_jobs=4)]: Done  42 tasks      | elapsed:   55.2s\n",
      "[Parallel(n_jobs=4)]: Done 192 tasks      | elapsed:  7.7min\n",
      "[Parallel(n_jobs=4)]: Done 442 tasks      | elapsed: 18.6min\n",
      "[Parallel(n_jobs=4)]: Done 792 tasks      | elapsed: 34.3min\n",
      "[Parallel(n_jobs=4)]: Done 1242 tasks      | elapsed: 55.0min\n",
      "[Parallel(n_jobs=4)]: Done 1280 out of 1280 | elapsed: 57.9min finished\n"
     ]
    }
   ],
   "source": [
    "expert_gs = train_grid_search(expert_cv_parameters, train_features, train_targets)"
   ]
  },
  {
   "cell_type": "code",
   "execution_count": 155,
   "metadata": {
    "ExecuteTime": {
     "end_time": "2016-10-28T11:04:26.013831",
     "start_time": "2016-10-28T11:04:25.753316"
    },
    "collapsed": false
   },
   "outputs": [
    {
     "data": {
      "text/plain": [
       "0.29533407358232083"
      ]
     },
     "execution_count": 155,
     "metadata": {},
     "output_type": "execute_result"
    }
   ],
   "source": [
    "compute_rmse(expert_gs, train_features, train_targets)"
   ]
  },
  {
   "cell_type": "code",
   "execution_count": 156,
   "metadata": {
    "ExecuteTime": {
     "end_time": "2016-10-28T11:04:28.625868",
     "start_time": "2016-10-28T11:04:28.554489"
    },
    "collapsed": false
   },
   "outputs": [
    {
     "data": {
      "text/plain": [
       "0.66304732147221468"
      ]
     },
     "execution_count": 156,
     "metadata": {},
     "output_type": "execute_result"
    }
   ],
   "source": [
    "compute_rmse(expert_gs.best_estimator_, test_features, test_targets)"
   ]
  },
  {
   "cell_type": "code",
   "execution_count": 157,
   "metadata": {
    "ExecuteTime": {
     "end_time": "2016-10-28T11:04:47.285613",
     "start_time": "2016-10-28T11:04:47.265446"
    },
    "collapsed": false
   },
   "outputs": [
    {
     "data": {
      "text/plain": [
       "{'gamma': 0.05, 'learning_rate': 0.05, 'max_depth': 6, 'n_estimators': 500}"
      ]
     },
     "execution_count": 157,
     "metadata": {},
     "output_type": "execute_result"
    }
   ],
   "source": [
    "expert_gs.best_params_"
   ]
  },
  {
   "cell_type": "code",
   "execution_count": 158,
   "metadata": {
    "ExecuteTime": {
     "end_time": "2016-10-28T11:04:49.810511",
     "start_time": "2016-10-28T11:04:49.802852"
    },
    "collapsed": false
   },
   "outputs": [
    {
     "data": {
      "text/plain": [
       "{'gamma': 0.6, 'learning_rate': 0.2, 'max_depth': 6, 'n_estimators': 25}"
      ]
     },
     "execution_count": 158,
     "metadata": {},
     "output_type": "execute_result"
    }
   ],
   "source": [
    "naive_gs.best_params_"
   ]
  },
  {
   "cell_type": "markdown",
   "metadata": {},
   "source": [
    "# Hyperopt"
   ]
  },
  {
   "cell_type": "markdown",
   "metadata": {
    "ExecuteTime": {
     "end_time": "2016-10-27T10:07:39.037961",
     "start_time": "2016-10-27T10:07:39.034290"
    }
   },
   "source": [
    "## Link to the theory:\n",
    "* score => f(x)\n",
    "* optimize => defines the hyperparameters space and the optimization strategy (here TPE) "
   ]
  },
  {
   "cell_type": "code",
   "execution_count": 170,
   "metadata": {
    "ExecuteTime": {
     "end_time": "2016-10-28T11:18:59.628342",
     "start_time": "2016-10-28T11:18:59.608035"
    },
    "collapsed": false
   },
   "outputs": [],
   "source": [
    "def score(params):\n",
    "    params[\"gamma\"] = np.log(params[\"gamma\"])\n",
    "    params[\"learning_rate\"] = np.log(params[\"learning_rate\"])\n",
    "    params[\"n_estimators\"] = int(params[\"n_estimators\"])\n",
    "    params[\"max_depth\"] = int(params[\"max_depth\"])\n",
    "    xgb_regressor = xgb.XGBRegressor(silent=False, **params)\n",
    "    score = cross_val_score(xgb_regressor, train_features, train_targets, \n",
    "                            cv=5, verbose=0, \n",
    "                            n_jobs=4).mean()\n",
    "    # Try - score instead of 1 - score\n",
    "    loss = - score\n",
    "    return {'loss': loss, \n",
    "            'status': STATUS_OK}"
   ]
  },
  {
   "cell_type": "code",
   "execution_count": 171,
   "metadata": {
    "ExecuteTime": {
     "end_time": "2016-10-28T11:19:01.163613",
     "start_time": "2016-10-28T11:19:01.153627"
    },
    "collapsed": true
   },
   "outputs": [],
   "source": [
    "def optimize(trials):\n",
    "    space = {'n_estimators' : hp.quniform('n_estimators', 10, 1000, 1),\n",
    "             'learning_rate' : hp.loguniform('learning_rate', 0.01, 1),\n",
    "             'max_depth' : hp.quniform('max_depth', 3, 15, 1),\n",
    "             'gamma': hp.loguniform('gamma', 0.01, 1)}\n",
    "    best = fmin(score, space, algo=tpe.suggest, \n",
    "                trials=trials, \n",
    "                max_evals=MAX_EVALS)\n",
    "    return best"
   ]
  },
  {
   "cell_type": "code",
   "execution_count": 172,
   "metadata": {
    "ExecuteTime": {
     "end_time": "2016-10-28T12:28:43.039299",
     "start_time": "2016-10-28T11:19:03.788688"
    },
    "collapsed": true
   },
   "outputs": [],
   "source": [
    "trials = Trials()\n",
    "optimal_param = optimize(trials)"
   ]
  },
  {
   "cell_type": "markdown",
   "metadata": {},
   "source": [
    "## Get CV score for Hyperopt tunned model"
   ]
  },
  {
   "cell_type": "code",
   "execution_count": 195,
   "metadata": {
    "ExecuteTime": {
     "end_time": "2016-10-28T17:22:47.224501",
     "start_time": "2016-10-28T17:22:47.214726"
    },
    "collapsed": false
   },
   "outputs": [],
   "source": [
    "hyperopt_cv_score = min(abs(t['result']['loss']) for t in trials.trials)"
   ]
  },
  {
   "cell_type": "code",
   "execution_count": 174,
   "metadata": {
    "ExecuteTime": {
     "end_time": "2016-10-28T14:30:22.206135",
     "start_time": "2016-10-28T14:29:42.126716"
    },
    "collapsed": false
   },
   "outputs": [
    {
     "data": {
      "text/plain": [
       "XGBRegressor(base_score=0.5, colsample_bylevel=1, colsample_bytree=1,\n",
       "       gamma=1.0, learning_rate=0.025, max_delta_step=0, max_depth=15,\n",
       "       min_child_weight=1, missing=None, n_estimators=500, nthread=-1,\n",
       "       objective='reg:linear', reg_alpha=0, reg_lambda=1,\n",
       "       scale_pos_weight=1, seed=0, silent=True, subsample=1)"
      ]
     },
     "execution_count": 174,
     "metadata": {},
     "output_type": "execute_result"
    }
   ],
   "source": [
    "params = {'max_depth': int(optimal_param['max_depth']),\n",
    "                 'n_estimators':  int(optimal_param['n_estimators']),\n",
    "               'learning_rate': np.log(optimal_param['learning_rate']),\n",
    "                'gamma': np.log(optimal_param['gamma'])\n",
    "                }\n",
    "params = {'gamma': 1.0, 'learning_rate': 0.025, 'max_depth': 15, 'n_estimators': 500}\n",
    "xgb_regressor = xgb.XGBRegressor(**params)\n",
    "xgb_regressor.fit(train_features, train_targets)"
   ]
  },
  {
   "cell_type": "code",
   "execution_count": 32,
   "metadata": {
    "ExecuteTime": {
     "end_time": "2016-10-27T10:09:39.529749",
     "start_time": "2016-10-27T10:09:39.526194"
    },
    "collapsed": true
   },
   "outputs": [],
   "source": [
    "# Max evals 100 , 4 ** 4 (256)\n",
    "# Doesn't mean less trainng time "
   ]
  },
  {
   "cell_type": "code",
   "execution_count": null,
   "metadata": {
    "collapsed": true
   },
   "outputs": [],
   "source": [
    "# Show selected features "
   ]
  },
  {
   "cell_type": "markdown",
   "metadata": {},
   "source": [
    "# Results"
   ]
  },
  {
   "cell_type": "code",
   "execution_count": 209,
   "metadata": {
    "ExecuteTime": {
     "end_time": "2016-10-28T17:49:25.518943",
     "start_time": "2016-10-28T17:49:25.500882"
    },
    "collapsed": true
   },
   "outputs": [],
   "source": [
    "configurations = {'model':['naive_grid', 'expert_grid', 'hyperopt_tpe'], \n",
    "                  'hyperparameters': [naive_gs.best_params_, expert_gs.best_params_, params]}"
   ]
  },
  {
   "cell_type": "code",
   "execution_count": 215,
   "metadata": {
    "ExecuteTime": {
     "end_time": "2016-10-28T17:59:02.625846",
     "start_time": "2016-10-28T17:59:02.616003"
    },
    "collapsed": false
   },
   "outputs": [],
   "source": [
    "def get_model_results(hyperparameters):\n",
    "    xgb_regressor = xgb.XGBRegressor(**hyperparameters)\n",
    "    cv_scores = cross_val_score(xgb_regressor, train_features, train_targets, cv=5, verbose=0, n_jobs=4)\n",
    "    print cv_scores.mean()\n",
    "    xgb_regressor.fit(train_features, train_targets)\n",
    "    train_score = compute_rmse(xgb_regressor, train_features, train_targets)\n",
    "    test_score = compute_rmse(xgb_regressor, test_features, test_targets)\n",
    "    return {'hyperparameters': hyperparameters,\n",
    "            'cv_scores': cv_scores, \n",
    "            'train_score': train_score, \n",
    "            'test_score': test_score}"
   ]
  },
  {
   "cell_type": "code",
   "execution_count": 216,
   "metadata": {
    "ExecuteTime": {
     "end_time": "2016-10-28T18:00:58.870777",
     "start_time": "2016-10-28T17:59:11.712733"
    },
    "collapsed": false
   },
   "outputs": [
    {
     "name": "stdout",
     "output_type": "stream",
     "text": [
      "0.589986767364\n",
      "0.610438233751\n",
      "0.612212670721\n"
     ]
    }
   ],
   "source": [
    "results = [get_model_results(hp) for hp in configurations['hyperparameters']] "
   ]
  },
  {
   "cell_type": "code",
   "execution_count": 218,
   "metadata": {
    "ExecuteTime": {
     "end_time": "2016-10-28T18:02:02.891191",
     "start_time": "2016-10-28T18:02:02.879409"
    },
    "collapsed": true
   },
   "outputs": [],
   "source": [
    "results_df = pd.DataFrame(results)"
   ]
  },
  {
   "cell_type": "code",
   "execution_count": 221,
   "metadata": {
    "ExecuteTime": {
     "end_time": "2016-10-28T18:02:34.691862",
     "start_time": "2016-10-28T18:02:34.682338"
    },
    "collapsed": false
   },
   "outputs": [],
   "source": [
    "results_df.to_csv('/tmp/hyperopt_imdb.csv', sep=';')"
   ]
  }
 ],
 "metadata": {
  "anaconda-cloud": {},
  "kernelspec": {
   "display_name": "Python [conda env:hyperparameters-optimization]",
   "language": "python",
   "name": "conda-env-hyperparameters-optimization-py"
  },
  "language_info": {
   "codemirror_mode": {
    "name": "ipython",
    "version": 2
   },
   "file_extension": ".py",
   "mimetype": "text/x-python",
   "name": "python",
   "nbconvert_exporter": "python",
   "pygments_lexer": "ipython2",
   "version": "2.7.12"
  },
  "toc": {
   "toc_cell": false,
   "toc_number_sections": true,
   "toc_threshold": 6,
   "toc_window_display": true
  },
  "toc_position": {
   "height": "22px",
   "left": "362.922px",
   "right": "20px",
   "top": "-21px",
   "width": "58px"
  }
 },
 "nbformat": 4,
 "nbformat_minor": 1
}
