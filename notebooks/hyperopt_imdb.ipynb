{
 "cells": [
  {
   "cell_type": "code",
   "execution_count": 14,
   "metadata": {
    "ExecuteTime": {
     "end_time": "2016-10-26T18:42:19.442113",
     "start_time": "2016-10-26T18:42:19.413727"
    },
    "collapsed": false
   },
   "outputs": [],
   "source": [
    "import pandas as pd\n",
    "import numpy as np\n",
    "import xgboost as xgb\n",
    "import matplotlib.pyplot as plt\n",
    "import seaborn as sns\n",
    "from sklearn.model_selection import train_test_split\n",
    "% matplotlib inline\n",
    "from hyperopt import fmin, tpe, hp, STATUS_OK, Trials\n",
    "from os import path as osp\n",
    "from sklearn.grid_search import GridSearchCV"
   ]
  },
  {
   "cell_type": "code",
   "execution_count": 5,
   "metadata": {
    "ExecuteTime": {
     "end_time": "2016-10-26T17:47:27.205339",
     "start_time": "2016-10-26T17:47:27.200314"
    },
    "collapsed": true
   },
   "outputs": [],
   "source": [
    "SEED = 0\n",
    "TRAIN_TEST_SPLIT = 0.2\n",
    "np.random.seed(SEED) # Set seed for reproducibility"
   ]
  },
  {
   "cell_type": "markdown",
   "metadata": {},
   "source": [
    "# Load processed data"
   ]
  },
  {
   "cell_type": "code",
   "execution_count": 8,
   "metadata": {
    "ExecuteTime": {
     "end_time": "2016-10-26T18:35:18.863579",
     "start_time": "2016-10-26T18:35:18.412598"
    },
    "collapsed": false
   },
   "outputs": [
    {
     "data": {
      "text/html": [
       "<div>\n",
       "<table border=\"1\" class=\"dataframe\">\n",
       "  <thead>\n",
       "    <tr style=\"text-align: right;\">\n",
       "      <th></th>\n",
       "      <th>num_critic_for_reviews</th>\n",
       "      <th>duration</th>\n",
       "      <th>director_facebook_likes</th>\n",
       "      <th>actor_3_facebook_likes</th>\n",
       "      <th>actor_1_facebook_likes</th>\n",
       "      <th>num_voted_users</th>\n",
       "      <th>num_user_for_reviews</th>\n",
       "      <th>title_year</th>\n",
       "      <th>actor_2_facebook_likes</th>\n",
       "      <th>imdb_score</th>\n",
       "      <th>...</th>\n",
       "      <th>Not Rated</th>\n",
       "      <th>PG</th>\n",
       "      <th>PG-13</th>\n",
       "      <th>Passed</th>\n",
       "      <th>R</th>\n",
       "      <th>TV-14</th>\n",
       "      <th>TV-G</th>\n",
       "      <th>TV-PG</th>\n",
       "      <th>Unrated</th>\n",
       "      <th>X</th>\n",
       "    </tr>\n",
       "  </thead>\n",
       "  <tbody>\n",
       "    <tr>\n",
       "      <th>0</th>\n",
       "      <td>723.0</td>\n",
       "      <td>178.0</td>\n",
       "      <td>0.0</td>\n",
       "      <td>855.0</td>\n",
       "      <td>1000.0</td>\n",
       "      <td>886204</td>\n",
       "      <td>3054.0</td>\n",
       "      <td>2009.0</td>\n",
       "      <td>936.0</td>\n",
       "      <td>7.9</td>\n",
       "      <td>...</td>\n",
       "      <td>0</td>\n",
       "      <td>0</td>\n",
       "      <td>1</td>\n",
       "      <td>0</td>\n",
       "      <td>0</td>\n",
       "      <td>0</td>\n",
       "      <td>0</td>\n",
       "      <td>0</td>\n",
       "      <td>0</td>\n",
       "      <td>0</td>\n",
       "    </tr>\n",
       "    <tr>\n",
       "      <th>1</th>\n",
       "      <td>302.0</td>\n",
       "      <td>169.0</td>\n",
       "      <td>563.0</td>\n",
       "      <td>1000.0</td>\n",
       "      <td>40000.0</td>\n",
       "      <td>471220</td>\n",
       "      <td>1238.0</td>\n",
       "      <td>2007.0</td>\n",
       "      <td>5000.0</td>\n",
       "      <td>7.1</td>\n",
       "      <td>...</td>\n",
       "      <td>0</td>\n",
       "      <td>0</td>\n",
       "      <td>1</td>\n",
       "      <td>0</td>\n",
       "      <td>0</td>\n",
       "      <td>0</td>\n",
       "      <td>0</td>\n",
       "      <td>0</td>\n",
       "      <td>0</td>\n",
       "      <td>0</td>\n",
       "    </tr>\n",
       "    <tr>\n",
       "      <th>2</th>\n",
       "      <td>602.0</td>\n",
       "      <td>148.0</td>\n",
       "      <td>0.0</td>\n",
       "      <td>161.0</td>\n",
       "      <td>11000.0</td>\n",
       "      <td>275868</td>\n",
       "      <td>994.0</td>\n",
       "      <td>2015.0</td>\n",
       "      <td>393.0</td>\n",
       "      <td>6.8</td>\n",
       "      <td>...</td>\n",
       "      <td>0</td>\n",
       "      <td>0</td>\n",
       "      <td>1</td>\n",
       "      <td>0</td>\n",
       "      <td>0</td>\n",
       "      <td>0</td>\n",
       "      <td>0</td>\n",
       "      <td>0</td>\n",
       "      <td>0</td>\n",
       "      <td>0</td>\n",
       "    </tr>\n",
       "    <tr>\n",
       "      <th>3</th>\n",
       "      <td>813.0</td>\n",
       "      <td>164.0</td>\n",
       "      <td>22000.0</td>\n",
       "      <td>23000.0</td>\n",
       "      <td>27000.0</td>\n",
       "      <td>1144337</td>\n",
       "      <td>2701.0</td>\n",
       "      <td>2012.0</td>\n",
       "      <td>23000.0</td>\n",
       "      <td>8.5</td>\n",
       "      <td>...</td>\n",
       "      <td>0</td>\n",
       "      <td>0</td>\n",
       "      <td>1</td>\n",
       "      <td>0</td>\n",
       "      <td>0</td>\n",
       "      <td>0</td>\n",
       "      <td>0</td>\n",
       "      <td>0</td>\n",
       "      <td>0</td>\n",
       "      <td>0</td>\n",
       "    </tr>\n",
       "    <tr>\n",
       "      <th>4</th>\n",
       "      <td>462.0</td>\n",
       "      <td>132.0</td>\n",
       "      <td>475.0</td>\n",
       "      <td>530.0</td>\n",
       "      <td>640.0</td>\n",
       "      <td>212204</td>\n",
       "      <td>738.0</td>\n",
       "      <td>2012.0</td>\n",
       "      <td>632.0</td>\n",
       "      <td>6.6</td>\n",
       "      <td>...</td>\n",
       "      <td>0</td>\n",
       "      <td>0</td>\n",
       "      <td>1</td>\n",
       "      <td>0</td>\n",
       "      <td>0</td>\n",
       "      <td>0</td>\n",
       "      <td>0</td>\n",
       "      <td>0</td>\n",
       "      <td>0</td>\n",
       "      <td>0</td>\n",
       "    </tr>\n",
       "  </tbody>\n",
       "</table>\n",
       "<p>5 rows × 145 columns</p>\n",
       "</div>"
      ],
      "text/plain": [
       "   num_critic_for_reviews  duration  director_facebook_likes  \\\n",
       "0                   723.0     178.0                      0.0   \n",
       "1                   302.0     169.0                    563.0   \n",
       "2                   602.0     148.0                      0.0   \n",
       "3                   813.0     164.0                  22000.0   \n",
       "4                   462.0     132.0                    475.0   \n",
       "\n",
       "   actor_3_facebook_likes  actor_1_facebook_likes  num_voted_users  \\\n",
       "0                   855.0                  1000.0           886204   \n",
       "1                  1000.0                 40000.0           471220   \n",
       "2                   161.0                 11000.0           275868   \n",
       "3                 23000.0                 27000.0          1144337   \n",
       "4                   530.0                   640.0           212204   \n",
       "\n",
       "   num_user_for_reviews  title_year  actor_2_facebook_likes  imdb_score ...  \\\n",
       "0                3054.0      2009.0                   936.0         7.9 ...   \n",
       "1                1238.0      2007.0                  5000.0         7.1 ...   \n",
       "2                 994.0      2015.0                   393.0         6.8 ...   \n",
       "3                2701.0      2012.0                 23000.0         8.5 ...   \n",
       "4                 738.0      2012.0                   632.0         6.6 ...   \n",
       "\n",
       "   Not Rated  PG  PG-13  Passed  R  TV-14  TV-G  TV-PG  Unrated  X  \n",
       "0          0   0      1       0  0      0     0      0        0  0  \n",
       "1          0   0      1       0  0      0     0      0        0  0  \n",
       "2          0   0      1       0  0      0     0      0        0  0  \n",
       "3          0   0      1       0  0      0     0      0        0  0  \n",
       "4          0   0      1       0  0      0     0      0        0  0  \n",
       "\n",
       "[5 rows x 145 columns]"
      ]
     },
     "execution_count": 8,
     "metadata": {},
     "output_type": "execute_result"
    }
   ],
   "source": [
    "imdb_df = pd.read_csv('../data/processed_movie_metadata.csv')\n",
    "imdb_df.head()"
   ]
  },
  {
   "cell_type": "markdown",
   "metadata": {},
   "source": [
    "# Train - test split"
   ]
  },
  {
   "cell_type": "code",
   "execution_count": 3,
   "metadata": {
    "collapsed": false
   },
   "outputs": [],
   "source": [
    "shuffle_index = np.random.permutation(imdb_df.shape[0])\n",
    "train_df = imdb_df.loc[shuffle_index[:int(len(shuffle_index) * train_test_split)], :]\n",
    "test_df = data.loc[shuffle_index[int(len(shuffle_index) * train_test_split):], :]"
   ]
  },
  {
   "cell_type": "code",
   "execution_count": null,
   "metadata": {
    "collapsed": true
   },
   "outputs": [],
   "source": [
    "train_df, test_df = train_test_split()"
   ]
  },
  {
   "cell_type": "code",
   "execution_count": 4,
   "metadata": {
    "collapsed": false
   },
   "outputs": [],
   "source": [
    "train_features = train_df.drop('imdb_score', axis=1)\n",
    "train_targets = train_df.loc[:, 'imdb_score']\n",
    "test_features = test_df.drop('imdb_score', axis=1)\n",
    "test_targets = test_df.loc[:, 'imdb_score']"
   ]
  },
  {
   "cell_type": "code",
   "execution_count": 6,
   "metadata": {
    "collapsed": true
   },
   "outputs": [],
   "source": [
    "def get_training_error(model):\n",
    "    prediction = model.predict(train_features)\n",
    "    error = np.mean((prediction - train_targets) ** 2)\n",
    "    return error"
   ]
  },
  {
   "cell_type": "code",
   "execution_count": 7,
   "metadata": {
    "collapsed": true
   },
   "outputs": [],
   "source": [
    "def evaluate_on_test_set(model):\n",
    "    prediction = model.predict(test_features)\n",
    "    error = np.mean((prediction - test_targets) ** 2)\n",
    "    return error"
   ]
  },
  {
   "cell_type": "markdown",
   "metadata": {},
   "source": [
    "# Naive grid search "
   ]
  },
  {
   "cell_type": "code",
   "execution_count": 10,
   "metadata": {
    "ExecuteTime": {
     "end_time": "2016-10-26T18:40:38.446919",
     "start_time": "2016-10-26T18:40:38.430106"
    },
    "collapsed": true
   },
   "outputs": [],
   "source": [
    "# naive search\n",
    "naive_cv_parameters = {'max_depth':[4, 6, 8, 10],\n",
    "                 'n_estimators': [10, 15, 20, 25],\n",
    "                 'learning_rate': [0.2, 0.4, 0.6, 0.8], \n",
    "                 'gamma': [0.2, 0.4, 0.6, 0.8]\n",
    "}"
   ]
  },
  {
   "cell_type": "code",
   "execution_count": 12,
   "metadata": {
    "ExecuteTime": {
     "end_time": "2016-10-26T18:41:08.176561",
     "start_time": "2016-10-26T18:41:08.164458"
    },
    "collapsed": true
   },
   "outputs": [],
   "source": [
    "xgb_regressor = xgb.XGBRegressor({'eval_score':'rmse'})\n",
    "naive_gs = GridSearchCV(xgb_regressor, naive_cv_parameters, cv=5, verbose=1, n_jobs=4)"
   ]
  },
  {
   "cell_type": "code",
   "execution_count": 13,
   "metadata": {
    "ExecuteTime": {
     "end_time": "2016-10-26T18:41:12.980256",
     "start_time": "2016-10-26T18:41:12.238060"
    },
    "collapsed": false
   },
   "outputs": [
    {
     "ename": "NameError",
     "evalue": "name 'train_features' is not defined",
     "output_type": "error",
     "traceback": [
      "\u001b[0;31m---------------------------------------------------------------------------\u001b[0m",
      "\u001b[0;31mNameError\u001b[0m                                 Traceback (most recent call last)",
      "\u001b[0;32m<ipython-input-13-8a3e474484d4>\u001b[0m in \u001b[0;36m<module>\u001b[0;34m()\u001b[0m\n\u001b[0;32m----> 1\u001b[0;31m \u001b[0mnaive_gs\u001b[0m\u001b[0;34m.\u001b[0m\u001b[0mfit\u001b[0m\u001b[0;34m(\u001b[0m\u001b[0mtrain_features\u001b[0m\u001b[0;34m,\u001b[0m \u001b[0mtrain_targets\u001b[0m\u001b[0;34m)\u001b[0m\u001b[0;34m\u001b[0m\u001b[0m\n\u001b[0m",
      "\u001b[0;31mNameError\u001b[0m: name 'train_features' is not defined"
     ]
    }
   ],
   "source": [
    "naive_gs.fit(train_features, train_targets)"
   ]
  },
  {
   "cell_type": "markdown",
   "metadata": {},
   "source": [
    "# Expert grid search"
   ]
  },
  {
   "cell_type": "code",
   "execution_count": 24,
   "metadata": {
    "collapsed": false
   },
   "outputs": [],
   "source": [
    "expert_cv_parameters = {'max_depth':[4, 6, 10, 15],\n",
    "                 'n_estimators': [10, 50, 100, 500],\n",
    "                 'learning_rate': [0.01, 0.025, 0.05, 0.1],\n",
    "                 'gamma': [0.05, 0.5, 0.9, 1.]\n",
    "}"
   ]
  },
  {
   "cell_type": "code",
   "execution_count": 25,
   "metadata": {
    "collapsed": false
   },
   "outputs": [],
   "source": [
    "xgb_regressor = xgb.XGBRegressor({'eval_score':'rmse'})\n",
    "expert_gs = GridSearchCV(xgb_regressor, cv_parameters, cv=5, verbose=1, n_jobs=4)"
   ]
  },
  {
   "cell_type": "code",
   "execution_count": 26,
   "metadata": {
    "collapsed": false
   },
   "outputs": [
    {
     "name": "stdout",
     "output_type": "stream",
     "text": [
      "Fitting 5 folds for each of 64 candidates, totalling 320 fits\n"
     ]
    },
    {
     "name": "stderr",
     "output_type": "stream",
     "text": [
      "[Parallel(n_jobs=4)]: Done  42 tasks      | elapsed:   24.2s\n",
      "[Parallel(n_jobs=4)]: Done 192 tasks      | elapsed:  2.6min\n",
      "[Parallel(n_jobs=4)]: Done 320 out of 320 | elapsed:  4.4min finished\n"
     ]
    },
    {
     "data": {
      "text/plain": [
       "GridSearchCV(cv=5, error_score='raise',\n",
       "       estimator=XGBRegressor(base_score=0.5, colsample_bylevel=1, colsample_bytree=1, gamma=0,\n",
       "       learning_rate=0.1, max_delta_step=0,\n",
       "       max_depth={'eval_score': 'rmse'}, min_child_weight=1, missing=None,\n",
       "       n_estimators=100, nthread=-1, objective='reg:linear', reg_alpha=0,\n",
       "       reg_lambda=1, scale_pos_weight=1, seed=0, silent=True, subsample=1),\n",
       "       fit_params={}, iid=True, n_jobs=4,\n",
       "       param_grid={'n_estimators': [10, 50, 100, 500], 'learning_rate': [0.01, 0.025, 0.05, 0.1], 'max_depth': [4, 6, 10, 15]},\n",
       "       pre_dispatch='2*n_jobs', refit=True, scoring=None, verbose=1)"
      ]
     },
     "execution_count": 26,
     "metadata": {},
     "output_type": "execute_result"
    }
   ],
   "source": [
    "gs.fit(train_features, train_targets)"
   ]
  },
  {
   "cell_type": "code",
   "execution_count": 27,
   "metadata": {
    "collapsed": false
   },
   "outputs": [
    {
     "data": {
      "text/plain": [
       "{'learning_rate': 0.1, 'max_depth': 4, 'n_estimators': 100}"
      ]
     },
     "execution_count": 27,
     "metadata": {},
     "output_type": "execute_result"
    }
   ],
   "source": [
    "gs.best_params_"
   ]
  },
  {
   "cell_type": "code",
   "execution_count": 28,
   "metadata": {
    "collapsed": false
   },
   "outputs": [
    {
     "data": {
      "text/plain": [
       "0.50060425913595474"
      ]
     },
     "execution_count": 28,
     "metadata": {},
     "output_type": "execute_result"
    }
   ],
   "source": [
    "- gs.best_score_"
   ]
  },
  {
   "cell_type": "code",
   "execution_count": 29,
   "metadata": {
    "collapsed": false
   },
   "outputs": [
    {
     "data": {
      "text/plain": [
       "0.17289026745140981"
      ]
     },
     "execution_count": 29,
     "metadata": {},
     "output_type": "execute_result"
    }
   ],
   "source": [
    "get_training_error(gs.best_estimator_)"
   ]
  },
  {
   "cell_type": "code",
   "execution_count": 30,
   "metadata": {
    "collapsed": false
   },
   "outputs": [
    {
     "data": {
      "text/plain": [
       "0.57769943223165821"
      ]
     },
     "execution_count": 30,
     "metadata": {},
     "output_type": "execute_result"
    }
   ],
   "source": [
    "evaluate_on_test_set(gs.best_estimator_)"
   ]
  },
  {
   "cell_type": "markdown",
   "metadata": {},
   "source": [
    "# Hyperopt"
   ]
  },
  {
   "cell_type": "code",
   "execution_count": 31,
   "metadata": {
    "collapsed": true
   },
   "outputs": [],
   "source": [
    "def score(params):\n",
    "    cv_parameters = {'max_depth':[int(params['max_depth'])],\n",
    "                     'n_estimators': [int(params['n_estimators'])],\n",
    "                     'learning_rate': [np.log(params['learning_rate'])],\n",
    "                     'gamma': [np.log(params['gamma'])]\n",
    "                    }\n",
    "    xgb_regressor = xgb.XGBRegressor({'eval_score':'rmse'})\n",
    "    gs = GridSearchCV(xgb_regressor, cv_parameters, cv=5, verbose=0, n_jobs=4)\n",
    "    gs.fit(train_features, train_targets)\n",
    "    loss = - gs.best_score_\n",
    "    return {'loss': loss, \n",
    "            'status': STATUS_OK}"
   ]
  },
  {
   "cell_type": "code",
   "execution_count": 32,
   "metadata": {
    "collapsed": true
   },
   "outputs": [],
   "source": [
    "def optimize(trials):\n",
    "    space = {\n",
    "             'n_estimators' : hp.quniform('n_estimators', 10, 1000, 1),\n",
    "             'learning_rate' : hp.loguniform('learning_rate', 0.01, 1),\n",
    "             'max_depth' : hp.quniform('max_depth', 3, 15, 1),\n",
    "             'gamma': hp.loguniform('gamma', 0.01, 1),\n",
    "             'eval_score': 'rmse',\n",
    "             'objective': 'reg:linear'\n",
    "             }\n",
    "    best = fmin(score, space, algo=tpe.suggest, trials=trials, max_evals=100)\n",
    "    print best\n",
    "    return best"
   ]
  },
  {
   "cell_type": "code",
   "execution_count": 33,
   "metadata": {
    "collapsed": false
   },
   "outputs": [
    {
     "name": "stdout",
     "output_type": "stream",
     "text": [
      "{'n_estimators': 172.0, 'learning_rate': 1.1860142751674096, 'max_depth': 3.0, 'gamma': 1.771817276666266}\n"
     ]
    }
   ],
   "source": [
    "trials = Trials()\n",
    "optimal_param = optimize(trials)"
   ]
  },
  {
   "cell_type": "code",
   "execution_count": 34,
   "metadata": {
    "collapsed": false
   },
   "outputs": [
    {
     "data": {
      "text/plain": [
       "GridSearchCV(cv=2, error_score='raise',\n",
       "       estimator=XGBRegressor(base_score=0.5, colsample_bylevel=1, colsample_bytree=1, gamma=0,\n",
       "       learning_rate=0.1, max_delta_step=0,\n",
       "       max_depth={'eval_score': 'rmse'}, min_child_weight=1, missing=None,\n",
       "       n_estimators=100, nthread=-1, objective='reg:linear', reg_alpha=0,\n",
       "       reg_lambda=1, scale_pos_weight=1, seed=0, silent=True, subsample=1),\n",
       "       fit_params={}, iid=True, n_jobs=4,\n",
       "       param_grid={'n_estimators': [172], 'learning_rate': [0.17059833690057549], 'max_depth': [3], 'gamma': [0.57200572986047216]},\n",
       "       pre_dispatch='2*n_jobs', refit=True, scoring=None, verbose=0)"
      ]
     },
     "execution_count": 34,
     "metadata": {},
     "output_type": "execute_result"
    }
   ],
   "source": [
    "cv_parameters = {'max_depth':[int(optimal_param['max_depth'])],\n",
    "                 'n_estimators': [int(optimal_param['n_estimators'])],\n",
    "                 'learning_rate': [np.log(optimal_param['learning_rate'])],\n",
    "                 'gamma': [np.log(optimal_param['gamma'])]\n",
    "                }\n",
    "xgb_regressor = xgb.XGBRegressor({'eval_score':'rmse'})\n",
    "gs = GridSearchCV(xgb_regressor, cv_parameters, cv=5, verbose=0, n_jobs=4)\n",
    "gs.fit(train_features, train_targets)"
   ]
  },
  {
   "cell_type": "code",
   "execution_count": 35,
   "metadata": {
    "collapsed": false
   },
   "outputs": [
    {
     "data": {
      "text/plain": [
       "0.47622344941626482"
      ]
     },
     "execution_count": 35,
     "metadata": {},
     "output_type": "execute_result"
    }
   ],
   "source": [
    "- gs.best_score_"
   ]
  },
  {
   "cell_type": "code",
   "execution_count": 36,
   "metadata": {
    "collapsed": false
   },
   "outputs": [
    {
     "data": {
      "text/plain": [
       "0.23960940411466794"
      ]
     },
     "execution_count": 36,
     "metadata": {},
     "output_type": "execute_result"
    }
   ],
   "source": [
    "get_training_error(gs.best_estimator_)"
   ]
  },
  {
   "cell_type": "code",
   "execution_count": 37,
   "metadata": {
    "collapsed": false
   },
   "outputs": [
    {
     "data": {
      "text/plain": [
       "0.57842418163747689"
      ]
     },
     "execution_count": 37,
     "metadata": {},
     "output_type": "execute_result"
    }
   ],
   "source": [
    "evaluate_on_test_set(gs.best_estimator_)"
   ]
  },
  {
   "cell_type": "code",
   "execution_count": null,
   "metadata": {
    "collapsed": true
   },
   "outputs": [],
   "source": []
  }
 ],
 "metadata": {
  "anaconda-cloud": {},
  "kernelspec": {
   "display_name": "Python [conda env:hyperparameters-optimization]",
   "language": "python",
   "name": "conda-env-hyperparameters-optimization-py"
  },
  "language_info": {
   "codemirror_mode": {
    "name": "ipython",
    "version": 2
   },
   "file_extension": ".py",
   "mimetype": "text/x-python",
   "name": "python",
   "nbconvert_exporter": "python",
   "pygments_lexer": "ipython2",
   "version": "2.7.12"
  },
  "toc": {
   "toc_cell": false,
   "toc_number_sections": true,
   "toc_threshold": 6,
   "toc_window_display": false
  }
 },
 "nbformat": 4,
 "nbformat_minor": 1
}
