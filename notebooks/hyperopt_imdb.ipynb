{
 "cells": [
  {
   "cell_type": "markdown",
   "metadata": {
    "ExecuteTime": {
     "end_time": "2016-10-27T09:05:30.463516",
     "start_time": "2016-10-27T09:05:30.455258"
    }
   },
   "source": [
    "In this notebook, we explore different techniques to optimize hyperparameters working with\n",
    "an IMDb dataset and trying to predict the score each movie received. "
   ]
  },
  {
   "cell_type": "code",
   "execution_count": 2,
   "metadata": {
    "ExecuteTime": {
     "end_time": "2016-11-02T09:29:24.272184",
     "start_time": "2016-11-02T09:29:24.258336"
    },
    "collapsed": false
   },
   "outputs": [],
   "source": [
    "# Data analysis imports\n",
    "import pandas as pd\n",
    "import numpy as np\n",
    "\n",
    "# Machine learning imports\n",
    "import xgboost as xgb\n",
    "from sklearn.grid_search import GridSearchCV\n",
    "from sklearn.model_selection import train_test_split, cross_val_score\n",
    "\n",
    "# Hyperopt imports\n",
    "from hyperopt import fmin, tpe, hp, STATUS_OK, Trials\n",
    "\n",
    "# Plotting imports\n",
    "import matplotlib.pyplot as plt\n",
    "import seaborn as sns\n",
    "% matplotlib inline"
   ]
  },
  {
   "cell_type": "code",
   "execution_count": 5,
   "metadata": {
    "ExecuteTime": {
     "end_time": "2016-10-31T09:17:03.459542",
     "start_time": "2016-10-31T09:17:03.453626"
    },
    "collapsed": true
   },
   "outputs": [],
   "source": [
    "# Some constants\n",
    "SEED = 314\n",
    "TEST_SIZE = 0.2\n",
    "MAX_EVALS = 100"
   ]
  },
  {
   "cell_type": "code",
   "execution_count": 6,
   "metadata": {
    "ExecuteTime": {
     "end_time": "2016-10-31T09:17:06.722744",
     "start_time": "2016-10-31T09:17:06.710609"
    },
    "collapsed": true
   },
   "outputs": [],
   "source": [
    "# Some utility functions\n",
    "def compute_rmse(model, features, targets):\n",
    "    prediction = model.predict(features)\n",
    "    rmse = np.sqrt(np.mean((prediction - targets) ** 2))\n",
    "    return rmse\n",
    "\n",
    "def train_grid_search(cv_parameters, features, targets):\n",
    "    xgb_regressor = xgb.XGBRegressor({'eval_score':'rmse'})\n",
    "    grid_search = GridSearchCV(xgb_regressor, cv_parameters, cv=5, verbose=1, n_jobs=4)\n",
    "    grid_search.fit(features, targets)\n",
    "    return grid_search"
   ]
  },
  {
   "cell_type": "markdown",
   "metadata": {},
   "source": [
    "# Load processed data"
   ]
  },
  {
   "cell_type": "code",
   "execution_count": 7,
   "metadata": {
    "ExecuteTime": {
     "end_time": "2016-10-31T09:17:09.215459",
     "start_time": "2016-10-31T09:17:09.068066"
    },
    "collapsed": false
   },
   "outputs": [],
   "source": [
    "imdb_df = pd.read_csv('../data/processed_movie_metadata.csv')"
   ]
  },
  {
   "cell_type": "code",
   "execution_count": 8,
   "metadata": {
    "ExecuteTime": {
     "end_time": "2016-10-31T09:17:10.542292",
     "start_time": "2016-10-31T09:17:10.464300"
    },
    "collapsed": false
   },
   "outputs": [
    {
     "data": {
      "text/html": [
       "<div>\n",
       "<table border=\"1\" class=\"dataframe\">\n",
       "  <thead>\n",
       "    <tr style=\"text-align: right;\">\n",
       "      <th></th>\n",
       "      <th>num_critic_for_reviews</th>\n",
       "      <th>duration</th>\n",
       "      <th>director_facebook_likes</th>\n",
       "      <th>actor_3_facebook_likes</th>\n",
       "      <th>actor_1_facebook_likes</th>\n",
       "      <th>num_voted_users</th>\n",
       "      <th>num_user_for_reviews</th>\n",
       "      <th>title_year</th>\n",
       "      <th>actor_2_facebook_likes</th>\n",
       "      <th>imdb_score</th>\n",
       "      <th>...</th>\n",
       "      <th>Not Rated</th>\n",
       "      <th>PG</th>\n",
       "      <th>PG-13</th>\n",
       "      <th>Passed</th>\n",
       "      <th>R</th>\n",
       "      <th>TV-14</th>\n",
       "      <th>TV-G</th>\n",
       "      <th>TV-PG</th>\n",
       "      <th>Unrated</th>\n",
       "      <th>X</th>\n",
       "    </tr>\n",
       "  </thead>\n",
       "  <tbody>\n",
       "    <tr>\n",
       "      <th>0</th>\n",
       "      <td>723.0</td>\n",
       "      <td>178.0</td>\n",
       "      <td>0.0</td>\n",
       "      <td>855.0</td>\n",
       "      <td>1000.0</td>\n",
       "      <td>886204</td>\n",
       "      <td>3054.0</td>\n",
       "      <td>2009.0</td>\n",
       "      <td>936.0</td>\n",
       "      <td>7.9</td>\n",
       "      <td>...</td>\n",
       "      <td>0</td>\n",
       "      <td>0</td>\n",
       "      <td>1</td>\n",
       "      <td>0</td>\n",
       "      <td>0</td>\n",
       "      <td>0</td>\n",
       "      <td>0</td>\n",
       "      <td>0</td>\n",
       "      <td>0</td>\n",
       "      <td>0</td>\n",
       "    </tr>\n",
       "    <tr>\n",
       "      <th>1</th>\n",
       "      <td>302.0</td>\n",
       "      <td>169.0</td>\n",
       "      <td>563.0</td>\n",
       "      <td>1000.0</td>\n",
       "      <td>40000.0</td>\n",
       "      <td>471220</td>\n",
       "      <td>1238.0</td>\n",
       "      <td>2007.0</td>\n",
       "      <td>5000.0</td>\n",
       "      <td>7.1</td>\n",
       "      <td>...</td>\n",
       "      <td>0</td>\n",
       "      <td>0</td>\n",
       "      <td>1</td>\n",
       "      <td>0</td>\n",
       "      <td>0</td>\n",
       "      <td>0</td>\n",
       "      <td>0</td>\n",
       "      <td>0</td>\n",
       "      <td>0</td>\n",
       "      <td>0</td>\n",
       "    </tr>\n",
       "    <tr>\n",
       "      <th>2</th>\n",
       "      <td>602.0</td>\n",
       "      <td>148.0</td>\n",
       "      <td>0.0</td>\n",
       "      <td>161.0</td>\n",
       "      <td>11000.0</td>\n",
       "      <td>275868</td>\n",
       "      <td>994.0</td>\n",
       "      <td>2015.0</td>\n",
       "      <td>393.0</td>\n",
       "      <td>6.8</td>\n",
       "      <td>...</td>\n",
       "      <td>0</td>\n",
       "      <td>0</td>\n",
       "      <td>1</td>\n",
       "      <td>0</td>\n",
       "      <td>0</td>\n",
       "      <td>0</td>\n",
       "      <td>0</td>\n",
       "      <td>0</td>\n",
       "      <td>0</td>\n",
       "      <td>0</td>\n",
       "    </tr>\n",
       "    <tr>\n",
       "      <th>3</th>\n",
       "      <td>813.0</td>\n",
       "      <td>164.0</td>\n",
       "      <td>22000.0</td>\n",
       "      <td>23000.0</td>\n",
       "      <td>27000.0</td>\n",
       "      <td>1144337</td>\n",
       "      <td>2701.0</td>\n",
       "      <td>2012.0</td>\n",
       "      <td>23000.0</td>\n",
       "      <td>8.5</td>\n",
       "      <td>...</td>\n",
       "      <td>0</td>\n",
       "      <td>0</td>\n",
       "      <td>1</td>\n",
       "      <td>0</td>\n",
       "      <td>0</td>\n",
       "      <td>0</td>\n",
       "      <td>0</td>\n",
       "      <td>0</td>\n",
       "      <td>0</td>\n",
       "      <td>0</td>\n",
       "    </tr>\n",
       "    <tr>\n",
       "      <th>4</th>\n",
       "      <td>462.0</td>\n",
       "      <td>132.0</td>\n",
       "      <td>475.0</td>\n",
       "      <td>530.0</td>\n",
       "      <td>640.0</td>\n",
       "      <td>212204</td>\n",
       "      <td>738.0</td>\n",
       "      <td>2012.0</td>\n",
       "      <td>632.0</td>\n",
       "      <td>6.6</td>\n",
       "      <td>...</td>\n",
       "      <td>0</td>\n",
       "      <td>0</td>\n",
       "      <td>1</td>\n",
       "      <td>0</td>\n",
       "      <td>0</td>\n",
       "      <td>0</td>\n",
       "      <td>0</td>\n",
       "      <td>0</td>\n",
       "      <td>0</td>\n",
       "      <td>0</td>\n",
       "    </tr>\n",
       "  </tbody>\n",
       "</table>\n",
       "<p>5 rows × 145 columns</p>\n",
       "</div>"
      ],
      "text/plain": [
       "   num_critic_for_reviews  duration  director_facebook_likes  \\\n",
       "0                   723.0     178.0                      0.0   \n",
       "1                   302.0     169.0                    563.0   \n",
       "2                   602.0     148.0                      0.0   \n",
       "3                   813.0     164.0                  22000.0   \n",
       "4                   462.0     132.0                    475.0   \n",
       "\n",
       "   actor_3_facebook_likes  actor_1_facebook_likes  num_voted_users  \\\n",
       "0                   855.0                  1000.0           886204   \n",
       "1                  1000.0                 40000.0           471220   \n",
       "2                   161.0                 11000.0           275868   \n",
       "3                 23000.0                 27000.0          1144337   \n",
       "4                   530.0                   640.0           212204   \n",
       "\n",
       "   num_user_for_reviews  title_year  actor_2_facebook_likes  imdb_score ...  \\\n",
       "0                3054.0      2009.0                   936.0         7.9 ...   \n",
       "1                1238.0      2007.0                  5000.0         7.1 ...   \n",
       "2                 994.0      2015.0                   393.0         6.8 ...   \n",
       "3                2701.0      2012.0                 23000.0         8.5 ...   \n",
       "4                 738.0      2012.0                   632.0         6.6 ...   \n",
       "\n",
       "   Not Rated  PG  PG-13  Passed  R  TV-14  TV-G  TV-PG  Unrated  X  \n",
       "0          0   0      1       0  0      0     0      0        0  0  \n",
       "1          0   0      1       0  0      0     0      0        0  0  \n",
       "2          0   0      1       0  0      0     0      0        0  0  \n",
       "3          0   0      1       0  0      0     0      0        0  0  \n",
       "4          0   0      1       0  0      0     0      0        0  0  \n",
       "\n",
       "[5 rows x 145 columns]"
      ]
     },
     "execution_count": 8,
     "metadata": {},
     "output_type": "execute_result"
    }
   ],
   "source": [
    "imdb_df.head()"
   ]
  },
  {
   "cell_type": "markdown",
   "metadata": {},
   "source": [
    "# Train - test split "
   ]
  },
  {
   "cell_type": "code",
   "execution_count": 9,
   "metadata": {
    "ExecuteTime": {
     "end_time": "2016-10-31T09:17:13.192138",
     "start_time": "2016-10-31T09:17:13.172596"
    },
    "collapsed": true
   },
   "outputs": [],
   "source": [
    "train_df, test_df = train_test_split(imdb_df, test_size=TEST_SIZE, random_state=SEED)"
   ]
  },
  {
   "cell_type": "code",
   "execution_count": 10,
   "metadata": {
    "ExecuteTime": {
     "end_time": "2016-10-31T09:17:15.335178",
     "start_time": "2016-10-31T09:17:15.316109"
    },
    "collapsed": false
   },
   "outputs": [],
   "source": [
    "train_features = train_df.drop('imdb_score', axis=1)\n",
    "train_targets = train_df.loc[:, 'imdb_score']\n",
    "test_features = test_df.drop('imdb_score', axis=1)\n",
    "test_targets = test_df.loc[:, 'imdb_score']"
   ]
  },
  {
   "cell_type": "markdown",
   "metadata": {},
   "source": [
    "# Naive grid search "
   ]
  },
  {
   "cell_type": "code",
   "execution_count": 11,
   "metadata": {
    "ExecuteTime": {
     "end_time": "2016-10-31T09:17:23.675287",
     "start_time": "2016-10-31T09:17:23.668803"
    },
    "collapsed": true
   },
   "outputs": [],
   "source": [
    "naive_cv_parameters = {'max_depth':[4, 6, 8, 10],\n",
    "                 'n_estimators': [10, 15, 20, 25],\n",
    "                 'learning_rate': [0.2, 0.4, 0.6, 0.8], \n",
    "                 'gamma': [0.2, 0.4, 0.6, 0.8]\n",
    "}"
   ]
  },
  {
   "cell_type": "code",
   "execution_count": 12,
   "metadata": {
    "ExecuteTime": {
     "end_time": "2016-10-31T09:23:05.073222",
     "start_time": "2016-10-31T09:17:25.596646"
    },
    "collapsed": false,
    "scrolled": true
   },
   "outputs": [
    {
     "name": "stdout",
     "output_type": "stream",
     "text": [
      "Fitting 5 folds for each of 256 candidates, totalling 1280 fits\n"
     ]
    },
    {
     "name": "stderr",
     "output_type": "stream",
     "text": [
      "[Parallel(n_jobs=4)]: Done  42 tasks      | elapsed:    9.2s\n",
      "[Parallel(n_jobs=4)]: Done 192 tasks      | elapsed:   56.5s\n",
      "[Parallel(n_jobs=4)]: Done 442 tasks      | elapsed:  2.2min\n",
      "[Parallel(n_jobs=4)]: Done 792 tasks      | elapsed:  3.7min\n",
      "[Parallel(n_jobs=4)]: Done 1242 tasks      | elapsed:  5.4min\n",
      "[Parallel(n_jobs=4)]: Done 1280 out of 1280 | elapsed:  5.6min finished\n"
     ]
    }
   ],
   "source": [
    "naive_gs = train_grid_search(naive_cv_parameters, train_features, train_targets)"
   ]
  },
  {
   "cell_type": "markdown",
   "metadata": {},
   "source": [
    "# Expert grid search"
   ]
  },
  {
   "cell_type": "markdown",
   "metadata": {},
   "source": [
    "This grid search is based on the recommmendations of the following article: "
   ]
  },
  {
   "cell_type": "code",
   "execution_count": 13,
   "metadata": {
    "ExecuteTime": {
     "end_time": "2016-10-31T09:44:35.133211",
     "start_time": "2016-10-31T09:44:35.069335"
    },
    "collapsed": false
   },
   "outputs": [],
   "source": [
    "expert_cv_parameters = {'max_depth':[4, 6, 10, 15],\n",
    "                 'n_estimators': [10, 50, 100, 500],\n",
    "                 'learning_rate': [0.01, 0.025, 0.05, 0.1],\n",
    "                 'gamma': [0.05, 0.5, 0.9, 1.]\n",
    "}"
   ]
  },
  {
   "cell_type": "code",
   "execution_count": 14,
   "metadata": {
    "ExecuteTime": {
     "end_time": "2016-10-31T10:41:24.266924",
     "start_time": "2016-10-31T09:44:59.217913"
    },
    "collapsed": false,
    "scrolled": true
   },
   "outputs": [
    {
     "name": "stdout",
     "output_type": "stream",
     "text": [
      "Fitting 5 folds for each of 256 candidates, totalling 1280 fits\n"
     ]
    },
    {
     "name": "stderr",
     "output_type": "stream",
     "text": [
      "[Parallel(n_jobs=4)]: Done  42 tasks      | elapsed:  1.1min\n",
      "[Parallel(n_jobs=4)]: Done 192 tasks      | elapsed:  8.3min\n",
      "[Parallel(n_jobs=4)]: Done 442 tasks      | elapsed: 18.7min\n",
      "[Parallel(n_jobs=4)]: Done 792 tasks      | elapsed: 33.8min\n",
      "[Parallel(n_jobs=4)]: Done 1242 tasks      | elapsed: 53.5min\n",
      "[Parallel(n_jobs=4)]: Done 1280 out of 1280 | elapsed: 56.0min finished\n"
     ]
    }
   ],
   "source": [
    "expert_gs = train_grid_search(expert_cv_parameters, train_features, train_targets)"
   ]
  },
  {
   "cell_type": "markdown",
   "metadata": {},
   "source": [
    "# Hyperopt"
   ]
  },
  {
   "cell_type": "markdown",
   "metadata": {
    "ExecuteTime": {
     "end_time": "2016-10-27T10:07:39.037961",
     "start_time": "2016-10-27T10:07:39.034290"
    }
   },
   "source": [
    "## Link to the theory:\n",
    "* score => f(x)\n",
    "* optimize => defines the hyperparameters space and the optimization strategy (here TPE) "
   ]
  },
  {
   "cell_type": "code",
   "execution_count": 15,
   "metadata": {
    "ExecuteTime": {
     "end_time": "2016-10-31T10:52:10.883863",
     "start_time": "2016-10-31T10:52:10.781965"
    },
    "collapsed": false
   },
   "outputs": [],
   "source": [
    "def score(params):\n",
    "    params[\"gamma\"] = np.log(params[\"gamma\"])\n",
    "    params[\"learning_rate\"] = np.log(params[\"learning_rate\"])\n",
    "    params[\"n_estimators\"] = int(params[\"n_estimators\"])\n",
    "    params[\"max_depth\"] = int(params[\"max_depth\"])\n",
    "    xgb_regressor = xgb.XGBRegressor(silent=False, **params)\n",
    "    score = cross_val_score(xgb_regressor, train_features, train_targets, \n",
    "                            cv=5, verbose=0, \n",
    "                            n_jobs=4).mean()\n",
    "    # Try - score instead of 1 - score\n",
    "    loss = - score\n",
    "    return {'loss': loss, \n",
    "            'status': STATUS_OK}"
   ]
  },
  {
   "cell_type": "code",
   "execution_count": 16,
   "metadata": {
    "ExecuteTime": {
     "end_time": "2016-10-31T10:52:13.547315",
     "start_time": "2016-10-31T10:52:13.533050"
    },
    "collapsed": true
   },
   "outputs": [],
   "source": [
    "def optimize(trials):\n",
    "    space = {'n_estimators' : hp.quniform('n_estimators', 10, 1000, 1),\n",
    "             'learning_rate' : hp.loguniform('learning_rate', 0.01, 1),\n",
    "             'max_depth' : hp.quniform('max_depth', 3, 15, 1),\n",
    "             'gamma': hp.loguniform('gamma', 0.01, 1)}\n",
    "    best = fmin(score, space, algo=tpe.suggest, \n",
    "                trials=trials, \n",
    "                max_evals=MAX_EVALS)\n",
    "    return best"
   ]
  },
  {
   "cell_type": "code",
   "execution_count": 17,
   "metadata": {
    "ExecuteTime": {
     "end_time": "2016-10-31T11:54:46.854619",
     "start_time": "2016-10-31T10:52:17.387085"
    },
    "collapsed": true
   },
   "outputs": [],
   "source": [
    "trials = Trials()\n",
    "optimal_param = optimize(trials)"
   ]
  },
  {
   "cell_type": "code",
   "execution_count": 22,
   "metadata": {
    "ExecuteTime": {
     "end_time": "2016-10-31T12:51:00.958372",
     "start_time": "2016-10-31T12:51:00.911778"
    },
    "collapsed": true
   },
   "outputs": [],
   "source": [
    "hyperopt_params = {'max_depth': int(optimal_param['max_depth']),\n",
    "                 'n_estimators':  int(optimal_param['n_estimators']),\n",
    "               'learning_rate': np.log(optimal_param['learning_rate']),\n",
    "                'gamma': np.log(optimal_param['gamma'])\n",
    "                }"
   ]
  },
  {
   "cell_type": "markdown",
   "metadata": {},
   "source": [
    "# Results"
   ]
  },
  {
   "cell_type": "code",
   "execution_count": 25,
   "metadata": {
    "ExecuteTime": {
     "end_time": "2016-10-31T12:51:52.822147",
     "start_time": "2016-10-31T12:51:52.796925"
    },
    "collapsed": false
   },
   "outputs": [],
   "source": [
    "def get_model_results(hyperparameters):\n",
    "    xgb_regressor = xgb.XGBRegressor(**hyperparameters)\n",
    "    cv_scores = cross_val_score(xgb_regressor, train_features, train_targets, cv=5, verbose=0, n_jobs=4)\n",
    "    xgb_regressor.fit(train_features, train_targets)\n",
    "    train_score = compute_rmse(xgb_regressor, train_features, train_targets)\n",
    "    test_score = compute_rmse(xgb_regressor, test_features, test_targets)\n",
    "    return {'hyperparameters': hyperparameters,\n",
    "            'cv_scores': cv_scores, \n",
    "            'train_score': train_score,\n",
    "            'mean_cv_score' : cv_scores.mean(),\n",
    "            'test_score': test_score}"
   ]
  },
  {
   "cell_type": "code",
   "execution_count": null,
   "metadata": {
    "collapsed": true
   },
   "outputs": [],
   "source": [
    "configurations = {'model':['naive_grid', 'expert_grid', 'hyperopt_tpe'], \n",
    "                  'hyperparameters': [naive_gs.best_params_, expert_gs.best_params_, hyperopt_params]}"
   ]
  },
  {
   "cell_type": "code",
   "execution_count": null,
   "metadata": {
    "collapsed": true
   },
   "outputs": [],
   "source": [
    "results = [get_model_results(hp) for hp in configurations['hyperparameters']] "
   ]
  },
  {
   "cell_type": "code",
   "execution_count": 33,
   "metadata": {
    "ExecuteTime": {
     "end_time": "2016-11-02T08:50:11.112905",
     "start_time": "2016-11-02T08:50:10.850111"
    },
    "collapsed": false
   },
   "outputs": [],
   "source": [
    "results_df = pd.DataFrame(results).assign(opt_method=lambda df: pd.Series(['naive_grid', 'expert_grid', 'hyperopt_tpe']))"
   ]
  },
  {
   "cell_type": "markdown",
   "metadata": {},
   "source": [
    "## Save the results"
   ]
  },
  {
   "cell_type": "code",
   "execution_count": 35,
   "metadata": {
    "ExecuteTime": {
     "end_time": "2016-11-02T08:50:38.113157",
     "start_time": "2016-11-02T08:50:38.045328"
    },
    "collapsed": false
   },
   "outputs": [],
   "source": [
    "results_df.to_csv('../data/hyperparmaters_selection_results', index=False)"
   ]
  },
  {
   "cell_type": "markdown",
   "metadata": {
    "ExecuteTime": {
     "end_time": "2016-11-02T09:03:14.744690",
     "start_time": "2016-11-02T09:03:14.735236"
    }
   },
   "source": [
    "## Load the results"
   ]
  },
  {
   "cell_type": "code",
   "execution_count": 35,
   "metadata": {
    "ExecuteTime": {
     "end_time": "2016-11-02T09:41:31.347154",
     "start_time": "2016-11-02T09:41:31.302826"
    },
    "collapsed": false
   },
   "outputs": [],
   "source": [
    "results_df = pd.read_csv('../data/hyperparmaters_selection_results.csv')"
   ]
  },
  {
   "cell_type": "code",
   "execution_count": 37,
   "metadata": {
    "ExecuteTime": {
     "end_time": "2016-11-02T09:47:37.897372",
     "start_time": "2016-11-02T09:47:37.799401"
    },
    "collapsed": false
   },
   "outputs": [
    {
     "data": {
      "text/html": [
       "<div>\n",
       "<table border=\"1\" class=\"dataframe\">\n",
       "  <thead>\n",
       "    <tr style=\"text-align: right;\">\n",
       "      <th></th>\n",
       "      <th>cv_scores</th>\n",
       "      <th>mean_cv_score</th>\n",
       "      <th>hyperparameters</th>\n",
       "      <th>test_score</th>\n",
       "      <th>train_score</th>\n",
       "      <th>opt_method</th>\n",
       "    </tr>\n",
       "  </thead>\n",
       "  <tbody>\n",
       "    <tr>\n",
       "      <th>0</th>\n",
       "      <td>[0.62770871, 0.53916399, 0.59777503, 0.5928037...</td>\n",
       "      <td>0.583</td>\n",
       "      <td>{'n_estimators': 25, 'learning_rate': 0.2, 'ma...</td>\n",
       "      <td>0.706723</td>\n",
       "      <td>0.529957</td>\n",
       "      <td>naive_grid</td>\n",
       "    </tr>\n",
       "    <tr>\n",
       "      <th>1</th>\n",
       "      <td>[0.6539893, 0.56968, 0.63451029, 0.61879454, 0...</td>\n",
       "      <td>0.609</td>\n",
       "      <td>{'n_estimators': 500, 'learning_rate': 0.05, '...</td>\n",
       "      <td>0.692121</td>\n",
       "      <td>0.375190</td>\n",
       "      <td>expert_grid</td>\n",
       "    </tr>\n",
       "    <tr>\n",
       "      <th>2</th>\n",
       "      <td>[0.65268997, 0.55835934, 0.63858404, 0.6084628...</td>\n",
       "      <td>0.605</td>\n",
       "      <td>{'n_estimators': 199, 'learning_rate': 0.04851...</td>\n",
       "      <td>0.678374</td>\n",
       "      <td>0.392884</td>\n",
       "      <td>hyperopt_tpe</td>\n",
       "    </tr>\n",
       "  </tbody>\n",
       "</table>\n",
       "</div>"
      ],
      "text/plain": [
       "                                           cv_scores   mean_cv_score  \\\n",
       "0  [0.62770871, 0.53916399, 0.59777503, 0.5928037...           0.583   \n",
       "1  [0.6539893, 0.56968, 0.63451029, 0.61879454, 0...           0.609   \n",
       "2  [0.65268997, 0.55835934, 0.63858404, 0.6084628...           0.605   \n",
       "\n",
       "                                     hyperparameters  test_score  train_score  \\\n",
       "0  {'n_estimators': 25, 'learning_rate': 0.2, 'ma...    0.706723     0.529957   \n",
       "1  {'n_estimators': 500, 'learning_rate': 0.05, '...    0.692121     0.375190   \n",
       "2  {'n_estimators': 199, 'learning_rate': 0.04851...    0.678374     0.392884   \n",
       "\n",
       "     opt_method  \n",
       "0    naive_grid  \n",
       "1   expert_grid  \n",
       "2  hyperopt_tpe  "
      ]
     },
     "execution_count": 37,
     "metadata": {},
     "output_type": "execute_result"
    }
   ],
   "source": [
    "results_df"
   ]
  }
 ],
 "metadata": {
  "anaconda-cloud": {},
  "kernelspec": {
   "display_name": "Python [conda env:hyperparameters-optimization]",
   "language": "python",
   "name": "conda-env-hyperparameters-optimization-py"
  },
  "language_info": {
   "codemirror_mode": {
    "name": "ipython",
    "version": 2
   },
   "file_extension": ".py",
   "mimetype": "text/x-python",
   "name": "python",
   "nbconvert_exporter": "python",
   "pygments_lexer": "ipython2",
   "version": "2.7.12"
  },
  "toc": {
   "toc_cell": false,
   "toc_number_sections": true,
   "toc_threshold": 6,
   "toc_window_display": true
  },
  "toc_position": {
   "height": "22px",
   "left": "362.922px",
   "right": "20px",
   "top": "-21px",
   "width": "58px"
  }
 },
 "nbformat": 4,
 "nbformat_minor": 1
}
